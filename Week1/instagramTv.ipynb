{
 "cells": [
  {
   "cell_type": "markdown",
   "metadata": {},
   "source": [
    "Project - Option 1: Let’s say you’re a Product Data Scientist at Instagram. How would you measure the success of the Instagram TV product?"
   ]
  },
  {
   "cell_type": "markdown",
   "metadata": {},
   "source": [
    "First I would understand what instagram Tv means as then I can understand that lengthy videos is the target of the product for instagram. \n",
    "Therefore, when analysing and wrangling, I can know what is an outlier, and what insights are being generated.\n",
    "Then import or collect the instagram TV product data.\n",
    "Then I would perform the data analysis, where featured engineering occurs and the data wrangling process is carried out. To remove the outliers and missing values are removed.\n",
    "Then I would perform exploratory data analysis, to identify the characteristics, such as which region is using it mostly, how many downloads are present and the time used on the app and the quality, uptake of the videos being uploaded and the monetary gain present. These would be the success factors I would use.\n",
    "Then the extraction of insights would start which I would use continents for classification to see the success in different regions, which can then inform the success of instagram Tv as a whole.\n"
   ]
  }
 ],
 "metadata": {
  "language_info": {
   "name": "python"
  },
  "orig_nbformat": 4
 },
 "nbformat": 4,
 "nbformat_minor": 2
}
