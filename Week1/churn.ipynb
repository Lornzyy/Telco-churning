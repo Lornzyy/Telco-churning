{
 "cells": [
  {
   "cell_type": "markdown",
   "metadata": {},
   "source": [
    "\n",
    "\n",
    "Project - Option 2: Imagine you're working with Sprint, one of the biggest telecom companies in the USA. They're really keen on figuring out how many customers might decide to leave them in the coming months. Luckily, they've got a bunch of past data about when customers have left before, as well as info about who these customers are, what they've bought, and other things like that. So, if you were in charge of predicting customer churn, how would you go about using machine learning to make a good guess about which customers might leave? \n",
    "What steps would you take to create a machine learning model that can predict if someone's going to leave or not?\n",
    "\n"
   ]
  },
  {
   "cell_type": "markdown",
   "metadata": {},
   "source": [
    "First I would understand what the telecom company does.\n",
    "Then I can understand why churning happens and what the signs of it happening.\n",
    "Then import or collect the telecom company data.\n",
    "Then I would perform the data analysis, where featured engineering occurs and the data wrangling process is carried out. To remove the outliers and missing values are removed.\n",
    "Then I would perform exploratory data analysis, to identify the characteristics, such as the customer's talk time and what is the average, what is the minimum and maximum amoutn of time a customer went without using their phone and it led to churning. \n",
    "Additionally, things like age may count and to check if there has been any changes which would affect a certain age group more.\n",
    "The machine learning agent can then use look at the characteristics and see if they are part of the pattern and if anything new is contributing to churning. If anything changes reinforcement learning is done and the agent also includes any new factors leading to churning to its prediction.\n",
    "\n",
    "CREATING MACHINE LEARNING MODEL\n",
    "\n",
    "Creating a model will include different libraries such as: Numpy, Scipy, Scikit-learn, Theano, TensorFlow, Keras, PyTorch, Pandas, Matplotlib.\n",
    "Then the model uses the data to train in looking for patterns as the churning being true or false is present.\n",
    "Then the churning process becomes predictive as the characteristics to be checked have been identified and more added that a human eye cannot know.\n",
    "After training the machine learning agent and finding it results accurate through putting it through a series of test.\n",
    "The agent can be able to predict the next set of churning customers and the telecom company can be able to do something about it, such as offers, loyalty reward, and other gifts, before the customers churn saving telecom company time and money."
   ]
  },
  {
   "cell_type": "markdown",
   "metadata": {},
   "source": []
  }
 ],
 "metadata": {
  "language_info": {
   "name": "python"
  },
  "orig_nbformat": 4
 },
 "nbformat": 4,
 "nbformat_minor": 2
}
